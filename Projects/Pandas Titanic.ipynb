{
 "cells": [
  {
   "cell_type": "markdown",
   "id": "4d99724a-38fb-44ca-9b1f-6cd2d86ee9c2",
   "metadata": {},
   "source": [
    "DEA of Titanic passengers dataset \n",
    "\n",
    "The sinking of the RMS Titanic on April 15, 1912, is one of the most infamous maritime disasters in history. During her maiden voyage, the \"unsinkable\" ship struck an iceberg and sank in the North Atlantic Ocean, resulting in the loss of over 1,500 lives out of the 2,224 passengers and crew on board.\n",
    "This dataset has the information of the passangers including if they survived or not."
   ]
  },
  {
   "cell_type": "code",
   "execution_count": 1,
   "id": "275ae7a8-1a8b-456c-8b15-de7bb1a920ca",
   "metadata": {},
   "outputs": [],
   "source": [
    "# Feature description"
   ]
  },
  {
   "cell_type": "code",
   "execution_count": 2,
   "id": "3408fdee-728e-4a89-a985-b73cb76bbe9e",
   "metadata": {},
   "outputs": [],
   "source": [
    "# 'PassengerId' - Ordered unique seriel number for the passengers.\n",
    "# 'Survived' - Denotes if a passenger survived the tragedy or not. 1=Survived, 0=Not survived.\n",
    "# 'Pclass' - The tickets class of the passengers. 1-First class, 2-second class and 3-third class.\n",
    "# 'Name' - Name of the passengers in last name, first name format.\n",
    "# 'Sex' - Gender of the passengers. \n",
    "# 'Age' - Age of the passengers.\n",
    "# 'SibSp' - Number of siblings or spouse that are travelling with the passenger.\n",
    "# 'Parch' - Number of parents or childern that are travelling with the passenger.\n",
    "# 'Ticket' - The ticket number.\n",
    "# 'Fare' - The price of the ticket.\n",
    "# 'Cabin' - The cabin number allocated to the passenger.\n",
    "# 'Embarked' - The city from where the passenger embarked the journey. C = Cherbourg, France. Q = Queenstown, Ireland. S = Southampton, England."
   ]
  },
  {
   "cell_type": "code",
   "execution_count": 3,
   "id": "29ffd18e-134c-49b4-bf3c-cf86b975a065",
   "metadata": {},
   "outputs": [],
   "source": [
    "import pandas as pd\n",
    "import matplotlib.pyplot as plt\n",
    "import seaborn as sb"
   ]
  },
  {
   "cell_type": "code",
   "execution_count": 4,
   "id": "9b910629-bc6a-4e28-a34f-bcf7ff795220",
   "metadata": {},
   "outputs": [],
   "source": [
    "df=pd.read_csv(r\"D:\\Data Science\\titanic.csv\")"
   ]
  },
  {
   "cell_type": "code",
   "execution_count": 5,
   "id": "a5276bdf-38f0-42ca-9cb1-d45ffccd2075",
   "metadata": {},
   "outputs": [
    {
     "name": "stdout",
     "output_type": "stream",
     "text": [
      "<class 'pandas.core.frame.DataFrame'>\n",
      "RangeIndex: 891 entries, 0 to 890\n",
      "Data columns (total 12 columns):\n",
      " #   Column       Non-Null Count  Dtype  \n",
      "---  ------       --------------  -----  \n",
      " 0   PassengerId  891 non-null    int64  \n",
      " 1   Survived     891 non-null    int64  \n",
      " 2   Pclass       891 non-null    int64  \n",
      " 3   Name         891 non-null    object \n",
      " 4   Sex          891 non-null    object \n",
      " 5   Age          714 non-null    float64\n",
      " 6   SibSp        891 non-null    int64  \n",
      " 7   Parch        891 non-null    int64  \n",
      " 8   Ticket       891 non-null    object \n",
      " 9   Fare         891 non-null    float64\n",
      " 10  Cabin        204 non-null    object \n",
      " 11  Embarked     889 non-null    object \n",
      "dtypes: float64(2), int64(5), object(5)\n",
      "memory usage: 83.7+ KB\n"
     ]
    }
   ],
   "source": [
    "df.info()"
   ]
  },
  {
   "cell_type": "code",
   "execution_count": 6,
   "id": "ab31ae42-5365-4377-9c88-9fbb2954723e",
   "metadata": {},
   "outputs": [
    {
     "data": {
      "text/plain": [
       "(891, 12)"
      ]
     },
     "execution_count": 6,
     "metadata": {},
     "output_type": "execute_result"
    }
   ],
   "source": [
    "df.shape"
   ]
  },
  {
   "cell_type": "code",
   "execution_count": 7,
   "id": "ff75eb2c-f3a0-40ee-8f8d-ed4c428434f2",
   "metadata": {},
   "outputs": [
    {
     "data": {
      "text/plain": [
       "Index(['PassengerId', 'Survived', 'Pclass', 'Name', 'Sex', 'Age', 'SibSp',\n",
       "       'Parch', 'Ticket', 'Fare', 'Cabin', 'Embarked'],\n",
       "      dtype='object')"
      ]
     },
     "execution_count": 7,
     "metadata": {},
     "output_type": "execute_result"
    }
   ],
   "source": [
    "df.columns"
   ]
  },
  {
   "cell_type": "code",
   "execution_count": 8,
   "id": "463f43c1-db09-4613-96be-0b40e0d19fca",
   "metadata": {},
   "outputs": [
    {
     "data": {
      "text/plain": [
       "PassengerId      0\n",
       "Survived         0\n",
       "Pclass           0\n",
       "Name             0\n",
       "Sex              0\n",
       "Age            177\n",
       "SibSp            0\n",
       "Parch            0\n",
       "Ticket           0\n",
       "Fare             0\n",
       "Cabin          687\n",
       "Embarked         2\n",
       "dtype: int64"
      ]
     },
     "execution_count": 8,
     "metadata": {},
     "output_type": "execute_result"
    }
   ],
   "source": [
    "# Lets find the null values for clearing.\n",
    "\n",
    "df.isna().sum()"
   ]
  },
  {
   "cell_type": "code",
   "execution_count": 9,
   "id": "23d22a05-3d33-47e9-9f09-2feabfeba5e9",
   "metadata": {},
   "outputs": [
    {
     "data": {
      "text/plain": [
       "Age    29.699118\n",
       "dtype: float64"
      ]
     },
     "execution_count": 9,
     "metadata": {},
     "output_type": "execute_result"
    }
   ],
   "source": [
    "# There are 177 rows where the age is not known. \n",
    "# This is a large number of rows compared to the total 891. \n",
    "# So lets find the mean age and fill the null age values with the mean age.\n",
    "\n",
    "df[[\"Age\"]].mean()"
   ]
  },
  {
   "cell_type": "code",
   "execution_count": 10,
   "id": "c67b7a34-19f3-44d8-b874-3133eb9496da",
   "metadata": {},
   "outputs": [],
   "source": [
    "df[[\"Age\"]]= df[[\"Age\"]].fillna(df[[\"Age\"]].mean())"
   ]
  },
  {
   "cell_type": "code",
   "execution_count": 11,
   "id": "2374262b-828f-4b9b-933f-19cd445f574a",
   "metadata": {},
   "outputs": [
    {
     "data": {
      "text/plain": [
       "PassengerId      0\n",
       "Survived         0\n",
       "Pclass           0\n",
       "Name             0\n",
       "Sex              0\n",
       "Age              0\n",
       "SibSp            0\n",
       "Parch            0\n",
       "Ticket           0\n",
       "Fare             0\n",
       "Cabin          687\n",
       "Embarked         2\n",
       "dtype: int64"
      ]
     },
     "execution_count": 11,
     "metadata": {},
     "output_type": "execute_result"
    }
   ],
   "source": [
    "df.isna().sum()"
   ]
  },
  {
   "cell_type": "code",
   "execution_count": 12,
   "id": "cf5b4339-8d67-4ed4-a6d8-8eb5d066631d",
   "metadata": {},
   "outputs": [],
   "source": [
    "# There are 687 Cabin rows that are empty compared to the total 891.\n",
    "# This is too many rows to impute or fill.\n",
    "# So we can remove it from the table as this columns is not very useful.\n",
    "# df.Ticket.nunique() shows 680 unique rows. So this can also be removed.\n",
    "\n",
    "df.drop([\"Cabin\",\"Ticket\"],axis=1,inplace=True)"
   ]
  },
  {
   "cell_type": "code",
   "execution_count": 13,
   "id": "0b63ba9e-e5bd-4458-a92a-1320067ed686",
   "metadata": {},
   "outputs": [],
   "source": [
    "# The two rows with null Embarked data can also be removed as this is a categorical field and there is no way to impute it. \n",
    "df=df.dropna()"
   ]
  },
  {
   "cell_type": "code",
   "execution_count": 14,
   "id": "5078c1a7-71d1-45d0-8155-e5e20b3211c7",
   "metadata": {},
   "outputs": [
    {
     "data": {
      "text/plain": [
       "(PassengerId    0\n",
       " Survived       0\n",
       " Pclass         0\n",
       " Name           0\n",
       " Sex            0\n",
       " Age            0\n",
       " SibSp          0\n",
       " Parch          0\n",
       " Fare           0\n",
       " Embarked       0\n",
       " dtype: int64,\n",
       " (889, 10))"
      ]
     },
     "execution_count": 14,
     "metadata": {},
     "output_type": "execute_result"
    }
   ],
   "source": [
    "#Now there are no null values.\n",
    "df.isna().sum(), df.shape"
   ]
  },
  {
   "cell_type": "code",
   "execution_count": 15,
   "id": "a7d49bf2-75e0-450a-86ab-b3881842120b",
   "metadata": {},
   "outputs": [
    {
     "data": {
      "text/plain": [
       "PassengerId    889\n",
       "Survived         2\n",
       "Pclass           3\n",
       "Name           889\n",
       "Sex              2\n",
       "Age             89\n",
       "SibSp            7\n",
       "Parch            7\n",
       "Fare           247\n",
       "Embarked         3\n",
       "dtype: int64"
      ]
     },
     "execution_count": 15,
     "metadata": {},
     "output_type": "execute_result"
    }
   ],
   "source": [
    "df.nunique()"
   ]
  },
  {
   "cell_type": "code",
   "execution_count": 16,
   "id": "b5b767de-9662-4290-b3ef-91738b318db2",
   "metadata": {},
   "outputs": [],
   "source": [
    "#let us try to find out if there is any significance between the categorical columns Pclass, Sex, SibSp, Parch and Embarked with the survived column."
   ]
  },
  {
   "cell_type": "markdown",
   "id": "ca76426d-b179-42d7-afa1-50bb97a3dc37",
   "metadata": {},
   "source": [
    "Pclass Vs Survived"
   ]
  },
  {
   "cell_type": "code",
   "execution_count": 17,
   "id": "69713014-8de0-4849-a3d0-89cebea41c02",
   "metadata": {},
   "outputs": [
    {
     "data": {
      "text/html": [
       "<div>\n",
       "<style scoped>\n",
       "    .dataframe tbody tr th:only-of-type {\n",
       "        vertical-align: middle;\n",
       "    }\n",
       "\n",
       "    .dataframe tbody tr th {\n",
       "        vertical-align: top;\n",
       "    }\n",
       "\n",
       "    .dataframe thead th {\n",
       "        text-align: right;\n",
       "    }\n",
       "</style>\n",
       "<table border=\"1\" class=\"dataframe\">\n",
       "  <thead>\n",
       "    <tr style=\"text-align: right;\">\n",
       "      <th>Survived</th>\n",
       "      <th>0</th>\n",
       "      <th>1</th>\n",
       "    </tr>\n",
       "    <tr>\n",
       "      <th>Pclass</th>\n",
       "      <th></th>\n",
       "      <th></th>\n",
       "    </tr>\n",
       "  </thead>\n",
       "  <tbody>\n",
       "    <tr>\n",
       "      <th>1</th>\n",
       "      <td>80</td>\n",
       "      <td>134</td>\n",
       "    </tr>\n",
       "    <tr>\n",
       "      <th>2</th>\n",
       "      <td>97</td>\n",
       "      <td>87</td>\n",
       "    </tr>\n",
       "    <tr>\n",
       "      <th>3</th>\n",
       "      <td>372</td>\n",
       "      <td>119</td>\n",
       "    </tr>\n",
       "  </tbody>\n",
       "</table>\n",
       "</div>"
      ],
      "text/plain": [
       "Survived    0    1\n",
       "Pclass            \n",
       "1          80  134\n",
       "2          97   87\n",
       "3         372  119"
      ]
     },
     "execution_count": 17,
     "metadata": {},
     "output_type": "execute_result"
    }
   ],
   "source": [
    "pd.crosstab(index=df[\"Pclass\"], columns=df[\"Survived\"])"
   ]
  },
  {
   "cell_type": "code",
   "execution_count": 18,
   "id": "ac1c2b31-ea36-4f90-91c1-a27fe597576e",
   "metadata": {},
   "outputs": [
    {
     "data": {
      "text/plain": [
       "Text(0.5, 1.0, 'Pclass Vs Survived')"
      ]
     },
     "execution_count": 18,
     "metadata": {},
     "output_type": "execute_result"
    },
    {
     "data": {
      "image/png": "[encoded data removed]",
      "text/plain": [
       "<Figure size 640x480 with 1 Axes>"
      ]
     },
     "metadata": {},
     "output_type": "display_data"
    }
   ],
   "source": [
    "pd.crosstab(index=df[\"Pclass\"], columns=df[\"Survived\"])\n",
    "pd.crosstab(index=df[\"Pclass\"], columns=df[\"Survived\"]).plot(kind=\"bar\", color=([\"Teal\",\"Coral\"]))\n",
    "plt.legend(title=\"Survived\", labels=[\"No\", \"Yes\"])\n",
    "plt.title(\"Pclass Vs Survived\")"
   ]
  },
  {
   "cell_type": "code",
   "execution_count": 19,
   "id": "aeb69d24-6984-457c-afff-f278b5c93cf6",
   "metadata": {},
   "outputs": [],
   "source": [
    "# Huge percentage of passengers from 3rd class did not survive. 1st and 2nd class was almost the same."
   ]
  },
  {
   "cell_type": "code",
   "execution_count": 33,
   "id": "d59402ed-5d2d-4cd9-91ae-b48e875a38f7",
   "metadata": {},
   "outputs": [
    {
     "data": {
      "text/html": [
       "<div>\n",
       "<style scoped>\n",
       "    .dataframe tbody tr th:only-of-type {\n",
       "        vertical-align: middle;\n",
       "    }\n",
       "\n",
       "    .dataframe tbody tr th {\n",
       "        vertical-align: top;\n",
       "    }\n",
       "\n",
       "    .dataframe thead th {\n",
       "        text-align: right;\n",
       "    }\n",
       "</style>\n",
       "<table border=\"1\" class=\"dataframe\">\n",
       "  <thead>\n",
       "    <tr style=\"text-align: right;\">\n",
       "      <th>Survived</th>\n",
       "      <th>0</th>\n",
       "      <th>1</th>\n",
       "    </tr>\n",
       "    <tr>\n",
       "      <th>Sex</th>\n",
       "      <th></th>\n",
       "      <th></th>\n",
       "    </tr>\n",
       "  </thead>\n",
       "  <tbody>\n",
       "    <tr>\n",
       "      <th>female</th>\n",
       "      <td>81</td>\n",
       "      <td>231</td>\n",
       "    </tr>\n",
       "    <tr>\n",
       "      <th>male</th>\n",
       "      <td>468</td>\n",
       "      <td>109</td>\n",
       "    </tr>\n",
       "  </tbody>\n",
       "</table>\n",
       "</div>"
      ],
      "text/plain": [
       "Survived    0    1\n",
       "Sex               \n",
       "female     81  231\n",
       "male      468  109"
      ]
     },
     "execution_count": 33,
     "metadata": {},
     "output_type": "execute_result"
    }
   ],
   "source": [
    "pd.crosstab(index=df[\"Sex\"], columns=df[\"Survived\"])"
   ]
  },
  {
   "cell_type": "markdown",
   "id": "2353c0a5-fd26-4ccb-9d02-a5fc0ada0b5c",
   "metadata": {},
   "source": [
    "Sex Vs Survived"
   ]
  },
  {
   "cell_type": "code",
   "execution_count": 20,
   "id": "eedc8199-5c01-4323-8fb7-b75615d11e54",
   "metadata": {},
   "outputs": [
    {
     "data": {
      "text/plain": [
       "<matplotlib.legend.Legend at 0x27cb6b65a90>"
      ]
     },
     "execution_count": 20,
     "metadata": {},
     "output_type": "execute_result"
    },
    {
     "data": {
      "image/png": "[encoded data removed]",
      "text/plain": [
       "<Figure size 640x480 with 1 Axes>"
      ]
     },
     "metadata": {},
     "output_type": "display_data"
    }
   ],
   "source": [
    "pd.crosstab(index=df[\"Sex\"], columns=df[\"Survived\"])\n",
    "pd.crosstab(index=df[\"Sex\"], columns=df[\"Survived\"]).plot(kind=\"bar\", color=([\"Teal\",\"Coral\"]))\n",
    "plt.title(\"Sex Vs Survived\")\n",
    "plt.legend(title=\"Survived\", labels=[\"No\", \"Yes\"])"
   ]
  },
  {
   "cell_type": "code",
   "execution_count": 21,
   "id": "f1f7d2b4-9ee2-4111-b017-c4a81b3d5e9e",
   "metadata": {},
   "outputs": [],
   "source": [
    "# High percentage of male passengers died and high percentage of female passengers survived. So gender did play a role in survival."
   ]
  },
  {
   "cell_type": "code",
   "execution_count": 34,
   "id": "06983927-97c3-4e18-a3dc-003a55df39bc",
   "metadata": {},
   "outputs": [
    {
     "data": {
      "text/html": [
       "<div>\n",
       "<style scoped>\n",
       "    .dataframe tbody tr th:only-of-type {\n",
       "        vertical-align: middle;\n",
       "    }\n",
       "\n",
       "    .dataframe tbody tr th {\n",
       "        vertical-align: top;\n",
       "    }\n",
       "\n",
       "    .dataframe thead th {\n",
       "        text-align: right;\n",
       "    }\n",
       "</style>\n",
       "<table border=\"1\" class=\"dataframe\">\n",
       "  <thead>\n",
       "    <tr style=\"text-align: right;\">\n",
       "      <th>Survived</th>\n",
       "      <th>0</th>\n",
       "      <th>1</th>\n",
       "    </tr>\n",
       "    <tr>\n",
       "      <th>SibSp</th>\n",
       "      <th></th>\n",
       "      <th></th>\n",
       "    </tr>\n",
       "  </thead>\n",
       "  <tbody>\n",
       "    <tr>\n",
       "      <th>0</th>\n",
       "      <td>398</td>\n",
       "      <td>208</td>\n",
       "    </tr>\n",
       "    <tr>\n",
       "      <th>1</th>\n",
       "      <td>97</td>\n",
       "      <td>112</td>\n",
       "    </tr>\n",
       "    <tr>\n",
       "      <th>2</th>\n",
       "      <td>15</td>\n",
       "      <td>13</td>\n",
       "    </tr>\n",
       "    <tr>\n",
       "      <th>3</th>\n",
       "      <td>12</td>\n",
       "      <td>4</td>\n",
       "    </tr>\n",
       "    <tr>\n",
       "      <th>4</th>\n",
       "      <td>15</td>\n",
       "      <td>3</td>\n",
       "    </tr>\n",
       "    <tr>\n",
       "      <th>5</th>\n",
       "      <td>5</td>\n",
       "      <td>0</td>\n",
       "    </tr>\n",
       "    <tr>\n",
       "      <th>8</th>\n",
       "      <td>7</td>\n",
       "      <td>0</td>\n",
       "    </tr>\n",
       "  </tbody>\n",
       "</table>\n",
       "</div>"
      ],
      "text/plain": [
       "Survived    0    1\n",
       "SibSp             \n",
       "0         398  208\n",
       "1          97  112\n",
       "2          15   13\n",
       "3          12    4\n",
       "4          15    3\n",
       "5           5    0\n",
       "8           7    0"
      ]
     },
     "execution_count": 34,
     "metadata": {},
     "output_type": "execute_result"
    }
   ],
   "source": [
    "pd.crosstab(index=df[\"SibSp\"], columns=df[\"Survived\"])"
   ]
  },
  {
   "cell_type": "markdown",
   "id": "0f6e2c85-ead6-4a28-8919-3e19fb79ee01",
   "metadata": {},
   "source": [
    "SibSp Vs Survived"
   ]
  },
  {
   "cell_type": "code",
   "execution_count": 22,
   "id": "92fff78c-daf3-409c-b3cf-b63d03db795d",
   "metadata": {},
   "outputs": [
    {
     "data": {
      "text/plain": [
       "<matplotlib.legend.Legend at 0x27cb8dec190>"
      ]
     },
     "execution_count": 22,
     "metadata": {},
     "output_type": "execute_result"
    },
    {
     "data": {
      "image/png": "[encoded data removed]",
      "text/plain": [
       "<Figure size 640x480 with 1 Axes>"
      ]
     },
     "metadata": {},
     "output_type": "display_data"
    }
   ],
   "source": [
    "pd.crosstab(index=df[\"SibSp\"], columns=df[\"Survived\"])\n",
    "pd.crosstab(index=df[\"SibSp\"], columns=df[\"Survived\"]).plot(kind=\"bar\", color=([\"Teal\",\"Coral\"]))\n",
    "plt.title(\"SibSp Vs Survived\")\n",
    "plt.legend(title=\"Survived\", labels=[\"No\", \"Yes\"])"
   ]
  },
  {
   "cell_type": "code",
   "execution_count": 23,
   "id": "3b0706a5-9d86-49de-9d55-8fb09e4cfed0",
   "metadata": {},
   "outputs": [],
   "source": [
    "# High percentage of passengers travelling without any siblings or spouse died. \n",
    "# And, passengers travelling as a large group(4 or more people) did not survive."
   ]
  },
  {
   "cell_type": "code",
   "execution_count": 35,
   "id": "ab2043c6-44ab-42e1-8547-a400cb06debf",
   "metadata": {},
   "outputs": [
    {
     "data": {
      "text/html": [
       "<div>\n",
       "<style scoped>\n",
       "    .dataframe tbody tr th:only-of-type {\n",
       "        vertical-align: middle;\n",
       "    }\n",
       "\n",
       "    .dataframe tbody tr th {\n",
       "        vertical-align: top;\n",
       "    }\n",
       "\n",
       "    .dataframe thead th {\n",
       "        text-align: right;\n",
       "    }\n",
       "</style>\n",
       "<table border=\"1\" class=\"dataframe\">\n",
       "  <thead>\n",
       "    <tr style=\"text-align: right;\">\n",
       "      <th>Survived</th>\n",
       "      <th>0</th>\n",
       "      <th>1</th>\n",
       "    </tr>\n",
       "    <tr>\n",
       "      <th>Parch</th>\n",
       "      <th></th>\n",
       "      <th></th>\n",
       "    </tr>\n",
       "  </thead>\n",
       "  <tbody>\n",
       "    <tr>\n",
       "      <th>0</th>\n",
       "      <td>445</td>\n",
       "      <td>231</td>\n",
       "    </tr>\n",
       "    <tr>\n",
       "      <th>1</th>\n",
       "      <td>53</td>\n",
       "      <td>65</td>\n",
       "    </tr>\n",
       "    <tr>\n",
       "      <th>2</th>\n",
       "      <td>40</td>\n",
       "      <td>40</td>\n",
       "    </tr>\n",
       "    <tr>\n",
       "      <th>3</th>\n",
       "      <td>2</td>\n",
       "      <td>3</td>\n",
       "    </tr>\n",
       "    <tr>\n",
       "      <th>4</th>\n",
       "      <td>4</td>\n",
       "      <td>0</td>\n",
       "    </tr>\n",
       "    <tr>\n",
       "      <th>5</th>\n",
       "      <td>4</td>\n",
       "      <td>1</td>\n",
       "    </tr>\n",
       "    <tr>\n",
       "      <th>6</th>\n",
       "      <td>1</td>\n",
       "      <td>0</td>\n",
       "    </tr>\n",
       "  </tbody>\n",
       "</table>\n",
       "</div>"
      ],
      "text/plain": [
       "Survived    0    1\n",
       "Parch             \n",
       "0         445  231\n",
       "1          53   65\n",
       "2          40   40\n",
       "3           2    3\n",
       "4           4    0\n",
       "5           4    1\n",
       "6           1    0"
      ]
     },
     "execution_count": 35,
     "metadata": {},
     "output_type": "execute_result"
    }
   ],
   "source": [
    "pd.crosstab(index=df[\"Parch\"], columns=df[\"Survived\"])"
   ]
  },
  {
   "cell_type": "markdown",
   "id": "9b3bbeff-88ff-42f6-b1f3-ff8a7ca96866",
   "metadata": {},
   "source": [
    "Parch Vs Survived"
   ]
  },
  {
   "cell_type": "code",
   "execution_count": 24,
   "id": "053bcc9d-e4be-4600-976f-84f718b15462",
   "metadata": {},
   "outputs": [
    {
     "data": {
      "text/plain": [
       "<matplotlib.legend.Legend at 0x27cb8c3a990>"
      ]
     },
     "execution_count": 24,
     "metadata": {},
     "output_type": "execute_result"
    },
    {
     "data": {
      "image/png": "[encoded data removed]",
      "text/plain": [
       "<Figure size 640x480 with 1 Axes>"
      ]
     },
     "metadata": {},
     "output_type": "display_data"
    }
   ],
   "source": [
    "pd.crosstab(index=df[\"Parch\"], columns=df[\"Survived\"])\n",
    "pd.crosstab(index=df[\"Parch\"], columns=df[\"Survived\"]).plot(kind=\"bar\", color=([\"Teal\",\"Coral\"]))\n",
    "plt.title(\"Parch Vs Survived\")\n",
    "plt.legend(title=\"Survived\", labels=[\"No\", \"Yes\"])"
   ]
  },
  {
   "cell_type": "code",
   "execution_count": 25,
   "id": "5de02276-7774-4d1e-9340-bdb3e1b6be06",
   "metadata": {},
   "outputs": [],
   "source": [
    "# High percentage of passengers travelling without any children or parents died. "
   ]
  },
  {
   "cell_type": "code",
   "execution_count": 36,
   "id": "0748a2db-8c00-40d2-b878-a6fb10f1acfc",
   "metadata": {},
   "outputs": [
    {
     "data": {
      "text/html": [
       "<div>\n",
       "<style scoped>\n",
       "    .dataframe tbody tr th:only-of-type {\n",
       "        vertical-align: middle;\n",
       "    }\n",
       "\n",
       "    .dataframe tbody tr th {\n",
       "        vertical-align: top;\n",
       "    }\n",
       "\n",
       "    .dataframe thead th {\n",
       "        text-align: right;\n",
       "    }\n",
       "</style>\n",
       "<table border=\"1\" class=\"dataframe\">\n",
       "  <thead>\n",
       "    <tr style=\"text-align: right;\">\n",
       "      <th>Survived</th>\n",
       "      <th>0</th>\n",
       "      <th>1</th>\n",
       "    </tr>\n",
       "    <tr>\n",
       "      <th>Embarked</th>\n",
       "      <th></th>\n",
       "      <th></th>\n",
       "    </tr>\n",
       "  </thead>\n",
       "  <tbody>\n",
       "    <tr>\n",
       "      <th>C</th>\n",
       "      <td>75</td>\n",
       "      <td>93</td>\n",
       "    </tr>\n",
       "    <tr>\n",
       "      <th>Q</th>\n",
       "      <td>47</td>\n",
       "      <td>30</td>\n",
       "    </tr>\n",
       "    <tr>\n",
       "      <th>S</th>\n",
       "      <td>427</td>\n",
       "      <td>217</td>\n",
       "    </tr>\n",
       "  </tbody>\n",
       "</table>\n",
       "</div>"
      ],
      "text/plain": [
       "Survived    0    1\n",
       "Embarked          \n",
       "C          75   93\n",
       "Q          47   30\n",
       "S         427  217"
      ]
     },
     "execution_count": 36,
     "metadata": {},
     "output_type": "execute_result"
    }
   ],
   "source": [
    "pd.crosstab(index=df[\"Embarked\"], columns=df[\"Survived\"])"
   ]
  },
  {
   "cell_type": "markdown",
   "id": "83acbf8f-e4d1-4ee7-abab-149f044724ef",
   "metadata": {},
   "source": [
    "Embarked Vs Survived"
   ]
  },
  {
   "cell_type": "code",
   "execution_count": 26,
   "id": "a5818cd3-626f-44d2-8b9d-fddcb34e0362",
   "metadata": {},
   "outputs": [
    {
     "data": {
      "text/plain": [
       "Text(0.5, 1.0, 'Embarked Vs Survived')"
      ]
     },
     "execution_count": 26,
     "metadata": {},
     "output_type": "execute_result"
    },
    {
     "data": {
      "image/png": "[encoded data removed]",
      "text/plain": [
       "<Figure size 640x480 with 1 Axes>"
      ]
     },
     "metadata": {},
     "output_type": "display_data"
    }
   ],
   "source": [
    "pd.crosstab(index=df[\"Embarked\"], columns=df[\"Survived\"])\n",
    "pd.crosstab(index=df[\"Embarked\"], columns=df[\"Survived\"]).plot(kind=\"bar\", color=([\"teal\", \"coral\"]))\n",
    "plt.legend(title=\"Survived\", labels=[\"No\", \"Yes\"])\n",
    "plt.title(\"Embarked Vs Survived\")"
   ]
  },
  {
   "cell_type": "code",
   "execution_count": 27,
   "id": "4e28cc25-32e9-4912-9b8c-23a51aa57b3c",
   "metadata": {},
   "outputs": [],
   "source": [
    "#The survival rate of people travelling from Southampton, England was lesser compared to the other two places."
   ]
  },
  {
   "cell_type": "code",
   "execution_count": 28,
   "id": "ac4a505c-479f-46af-868f-8eb04e8a33d1",
   "metadata": {},
   "outputs": [],
   "source": [
    "# Now lets check the columns with continuous data Age and Fare"
   ]
  },
  {
   "cell_type": "code",
   "execution_count": 29,
   "id": "d26f977b-099d-4ff8-95ab-3fd6e96ef516",
   "metadata": {},
   "outputs": [
    {
     "data": {
      "text/plain": [
       "<matplotlib.legend.Legend at 0x27cb904fc50>"
      ]
     },
     "execution_count": 29,
     "metadata": {},
     "output_type": "execute_result"
    },
    {
     "data": {
      "image/png": "[encoded data removed]",
      "text/plain": [
       "<Figure size 700x500 with 1 Axes>"
      ]
     },
     "metadata": {},
     "output_type": "display_data"
    }
   ],
   "source": [
    "plt.figure(figsize=(7,5))\n",
    "plt.title(\"Age Vs Survived\")\n",
    "sb.boxplot(df,x=\"Age\", hue=\"Survived\", palette=[\"blue\", \"orange\"])\n",
    "plt.legend(title=\"Survived\", labels=[\"No\", \"Yes\"])"
   ]
  },
  {
   "cell_type": "code",
   "execution_count": 30,
   "id": "eb5e3fe3-feb7-4584-9ee8-20525c42d287",
   "metadata": {},
   "outputs": [],
   "source": [
    "# The non-survivor group has many more outliers on the higher end of the age range than the survivor group, suggesting that a larger proportion of older individuals did not survive. \n",
    "# The survivor group has one outlier to the extreme of 80 years old."
   ]
  },
  {
   "cell_type": "code",
   "execution_count": 31,
   "id": "1f857915-fef2-414c-80cd-545a8b7c81dc",
   "metadata": {},
   "outputs": [
    {
     "data": {
      "text/plain": [
       "<matplotlib.legend.Legend at 0x27cb90f2850>"
      ]
     },
     "execution_count": 31,
     "metadata": {},
     "output_type": "execute_result"
    },
    {
     "data": {
      "image/png": "[encoded data removed]",
      "text/plain": [
       "<Figure size 700x500 with 1 Axes>"
      ]
     },
     "metadata": {},
     "output_type": "display_data"
    }
   ],
   "source": [
    "plt.figure(figsize=(7,5))\n",
    "plt.title(\"Fare Vs Survived\")\n",
    "sb.boxplot(df,x=\"Fare\", hue=\"Survived\", palette=[\"blue\", \"orange\"])\n",
    "plt.legend(title=\"Survived\", labels=[\"No\", \"Yes\"])"
   ]
  },
  {
   "cell_type": "code",
   "execution_count": 32,
   "id": "9e8473b4-39df-453c-a2fc-e27034b65541",
   "metadata": {},
   "outputs": [],
   "source": [
    "# The median fare for survivors is noticeably higher than the median fare for non-survivors\n",
    "# This suggests that passengers who paid higher fares were more likely to survive. "
   ]
  }
 ],
 "metadata": {
  "kernelspec": {
   "display_name": "Python 3 (ipykernel)",
   "language": "python",
   "name": "python3"
  },
  "language_info": {
   "codemirror_mode": {
    "name": "ipython",
    "version": 3
   },
   "file_extension": ".py",
   "mimetype": "text/x-python",
   "name": "python",
   "nbconvert_exporter": "python",
   "pygments_lexer": "ipython3",
   "version": "3.13.2"
  }
 },
 "nbformat": 4,
 "nbformat_minor": 5
}
